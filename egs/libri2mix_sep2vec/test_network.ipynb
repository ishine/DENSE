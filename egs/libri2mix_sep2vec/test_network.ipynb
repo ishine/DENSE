{
 "cells": [
  {
   "cell_type": "code",
   "execution_count": 1,
   "metadata": {},
   "outputs": [],
   "source": [
    "import torch \n",
    "import torch.nn as nn "
   ]
  },
  {
   "cell_type": "code",
   "execution_count": 44,
   "metadata": {},
   "outputs": [],
   "source": [
    "class MergeEmbedWithConv(nn.Module):\n",
    "    def __init__(self, emb_dim):\n",
    "        super(MergeEmbedWithConv, self).__init__()\n",
    "        self.emb_dim = emb_dim\n",
    "        self.mask_conv = nn.Sequential(\n",
    "            nn.Conv1d(emb_dim*2, emb_dim, 1),\n",
    "            # nn.BatchNorm1d(emb_dim),\n",
    "            nn.Sigmoid(),\n",
    "        )\n",
    "    \n",
    "    def forward(self, emb1, emb2):\n",
    "        \"\"\"\n",
    "        input shape:\n",
    "            emb1: (batch, emb_dim)\n",
    "            emb2: (batch, 1, emb_dim, T)\n",
    "        \"\"\"\n",
    "        emb2 = emb2.squeeze(1).permute(0, 2, 1)\n",
    "        emb1 = emb1.unsqueeze(1)\n",
    "        B, T, emb_dim = emb2.size()\n",
    "        emb1 = emb1.repeat(1, T, 1)\n",
    "        # print(\"shape : \", emb1.shape, emb2.shape)\n",
    "        # shape :  torch.Size([6, 2999, 256]) torch.Size([6, 2999, 256])\n",
    "        # concat emb1 and emb2 to get (batch, T, emb_dim, 2)\n",
    "        emb_concate = torch.cat((emb1, emb2), dim=-1)\n",
    "        # print(\"EMB concate shape: \", emb_concate.shape)#  EMB concate shape:  torch.Size([6, 2999, 512])\n",
    "        # emb_concate = emb_concate.permute(0, 2, 1)\n",
    "        emb2_mask = self.mask_conv(emb_concate.permute(0, 2, 1)).permute(0, 2, 1)\n",
    "        emb_out = emb2_mask * emb2 + emb1\n",
    "        return emb_out"
   ]
  },
  {
   "cell_type": "code",
   "execution_count": 45,
   "metadata": {},
   "outputs": [
    {
     "name": "stdout",
     "output_type": "stream",
     "text": [
      "emb1 range:  tensor(-225.9766, device='cuda:0') tensor(221.0042, device='cuda:0')\n"
     ]
    },
    {
     "data": {
      "text/plain": [
       "MergeEmbedWithConv(\n",
       "  (mask_conv): Sequential(\n",
       "    (0): Conv1d(120, 60, kernel_size=(1,), stride=(1,))\n",
       "    (1): Sigmoid()\n",
       "  )\n",
       ")"
      ]
     },
     "execution_count": 45,
     "metadata": {},
     "output_type": "execute_result"
    }
   ],
   "source": [
    "model_dim = 60\n",
    "model = MergeEmbedWithConv(model_dim)\n",
    "emb1 = 100*torch.randn(2, model_dim)\n",
    "emb2 = 100*torch.randn(2, 1, model_dim, 50)\n",
    "model = model.cuda()\n",
    "emb1 = emb1.cuda()\n",
    "emb2 = emb2.cuda()\n",
    "print(\"emb1 range: \", emb1.min(), emb1.max())\n",
    "model.eval()"
   ]
  },
  {
   "cell_type": "code",
   "execution_count": 46,
   "metadata": {},
   "outputs": [
    {
     "name": "stdout",
     "output_type": "stream",
     "text": [
      "torch.Size([2, 50, 60])\n"
     ]
    }
   ],
   "source": [
    "out1 = model(emb1, emb2)\n",
    "print(out1.shape) # torch.Size([2, 5, 10])"
   ]
  },
  {
   "cell_type": "code",
   "execution_count": 47,
   "metadata": {},
   "outputs": [
    {
     "name": "stdout",
     "output_type": "stream",
     "text": [
      "torch.Size([2, 1, 60])\n"
     ]
    }
   ],
   "source": [
    "out2 = model(emb1, emb2[..., -1:])\n",
    "print(out2.shape)"
   ]
  },
  {
   "cell_type": "code",
   "execution_count": 48,
   "metadata": {},
   "outputs": [
    {
     "name": "stdout",
     "output_type": "stream",
     "text": [
      "tensor([[ 0.0000e+00,  0.0000e+00,  0.0000e+00,  0.0000e+00,  2.3499e-02,\n",
      "          0.0000e+00,  7.8201e-05,  0.0000e+00,  0.0000e+00, -6.7062e-02,\n",
      "          0.0000e+00,  1.4481e-02,  0.0000e+00,  3.4332e-05,  0.0000e+00,\n",
      "          0.0000e+00,  0.0000e+00,  0.0000e+00,  0.0000e+00,  4.6349e-04,\n",
      "          2.4414e-04,  0.0000e+00,  0.0000e+00,  0.0000e+00,  3.1311e-02,\n",
      "         -4.5776e-05,  0.0000e+00,  0.0000e+00,  0.0000e+00,  0.0000e+00,\n",
      "          0.0000e+00,  0.0000e+00,  1.9836e-04,  0.0000e+00,  0.0000e+00,\n",
      "          0.0000e+00,  0.0000e+00,  1.3159e-01,  0.0000e+00,  0.0000e+00,\n",
      "          0.0000e+00,  0.0000e+00,  0.0000e+00,  0.0000e+00, -1.9998e-01,\n",
      "          0.0000e+00,  0.0000e+00,  0.0000e+00, -1.5259e-04,  0.0000e+00,\n",
      "          0.0000e+00,  0.0000e+00,  0.0000e+00,  0.0000e+00,  0.0000e+00,\n",
      "          0.0000e+00,  0.0000e+00,  0.0000e+00,  0.0000e+00,  0.0000e+00],\n",
      "        [ 0.0000e+00,  0.0000e+00,  0.0000e+00,  0.0000e+00,  0.0000e+00,\n",
      "          0.0000e+00,  0.0000e+00,  7.6294e-06,  0.0000e+00, -6.8665e-04,\n",
      "          0.0000e+00,  0.0000e+00,  5.1174e-03,  0.0000e+00,  0.0000e+00,\n",
      "          0.0000e+00,  0.0000e+00,  0.0000e+00,  0.0000e+00, -4.8431e-02,\n",
      "          0.0000e+00,  0.0000e+00,  0.0000e+00,  0.0000e+00, -1.3351e-03,\n",
      "          0.0000e+00,  0.0000e+00,  7.6294e-06,  0.0000e+00,  0.0000e+00,\n",
      "          0.0000e+00,  0.0000e+00,  0.0000e+00, -3.3569e-04,  0.0000e+00,\n",
      "          0.0000e+00,  6.1035e-05,  0.0000e+00,  7.7515e-03,  1.2207e-04,\n",
      "          0.0000e+00,  0.0000e+00,  0.0000e+00,  0.0000e+00,  0.0000e+00,\n",
      "          5.4932e-03,  0.0000e+00,  0.0000e+00,  0.0000e+00,  0.0000e+00,\n",
      "          0.0000e+00,  0.0000e+00,  0.0000e+00,  0.0000e+00,  0.0000e+00,\n",
      "          2.0401e-02,  0.0000e+00,  3.5545e-02,  0.0000e+00,  0.0000e+00]],\n",
      "       device='cuda:0', grad_fn=<SubBackward0>)\n"
     ]
    }
   ],
   "source": [
    "# print(out1[:, -1, :])\n",
    "# print(out2[:, 0, :])\n",
    "print(out1[:, -1, :] - out2[:, 0, :])"
   ]
  },
  {
   "cell_type": "code",
   "execution_count": null,
   "metadata": {},
   "outputs": [],
   "source": []
  }
 ],
 "metadata": {
  "kernelspec": {
   "display_name": "python3",
   "language": "python",
   "name": "python3"
  },
  "language_info": {
   "codemirror_mode": {
    "name": "ipython",
    "version": 3
   },
   "file_extension": ".py",
   "mimetype": "text/x-python",
   "name": "python",
   "nbconvert_exporter": "python",
   "pygments_lexer": "ipython3",
   "version": "3.9.19"
  }
 },
 "nbformat": 4,
 "nbformat_minor": 2
}
